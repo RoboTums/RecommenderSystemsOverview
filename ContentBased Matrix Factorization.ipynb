{
 "cells": [
  {
   "cell_type": "markdown",
   "metadata": {},
   "source": [
    "## Creating an Explicit Latent Matrix Factorization Recommender System for Books10k Dataset"
   ]
  },
  {
   "cell_type": "code",
   "execution_count": 30,
   "metadata": {},
   "outputs": [],
   "source": [
    "import numpy as np\n",
    "import pandas as pd\n",
    "from scipy.sparse import coo_matrix\n"
   ]
  },
  {
   "cell_type": "markdown",
   "metadata": {},
   "source": [
    "First we load the data set:"
   ]
  },
  {
   "cell_type": "code",
   "execution_count": 36,
   "metadata": {},
   "outputs": [],
   "source": [
    "ratingsDataMatrix = pd.read_csv('/home/robot-tumas/Desktop/projects/python/recSysTutorial/datasets/goodBooks10k/ratings.csv',engine='python')"
   ]
  },
  {
   "cell_type": "code",
   "execution_count": 37,
   "metadata": {},
   "outputs": [
    {
     "name": "stdout",
     "output_type": "stream",
     "text": [
      "we have  980112 observations and  3 columns\n",
      "the columns are: Index(['book_id', 'user_id', 'rating'], dtype='object')\n",
      "the number of unique users we have is: 53424\n",
      "the number of unique books we have is: 10000\n"
     ]
    }
   ],
   "source": [
    "#we should  drop duplicates to clean the data:\n",
    "ratingsDataMatrix = ratingsDataMatrix.drop_duplicates()\n",
    "#lets look at some of the ratings:\n",
    "print('we have ',ratingsDataMatrix.shape[0], 'observations and ', ratingsDataMatrix.shape[1], 'columns')\n",
    "print('the columns are:', ratingsDataMatrix.columns)\n",
    "print('the number of unique users we have is:', len(ratingsDataMatrix.user_id.unique()))\n",
    "print('the number of unique books we have is:', len(ratingsDataMatrix.book_id.unique()))\n",
    "\n"
   ]
  },
  {
   "cell_type": "code",
   "execution_count": 39,
   "metadata": {},
   "outputs": [
    {
     "data": {
      "text/plain": [
       "<10001x53425 sparse matrix of type '<class 'numpy.float64'>'\n",
       "\twith 980112 stored elements in COOrdinate format>"
      ]
     },
     "execution_count": 39,
     "metadata": {},
     "output_type": "execute_result"
    }
   ],
   "source": [
    "#from scipy we can get a set up a sparse coordinate matrix with the ratings and users. \n",
    "ratingsMatrix = coo_matrix((ratingsDataMatrix['rating'].astype(float),\n",
    "                     (ratingsDataMatrix['book_id'], ratingsDataMatrix['user_id'])))\n",
    "ratingsMatrix"
   ]
  },
  {
   "cell_type": "markdown",
   "metadata": {},
   "source": [
    "## we are now ready for FunkSVD. This is where we do singular value decomposition and set up our factors for R= P * Q"
   ]
  },
  {
   "cell_type": "code",
   "execution_count": null,
   "metadata": {},
   "outputs": [],
   "source": []
  }
 ],
 "metadata": {
  "kernelspec": {
   "display_name": "Python 3",
   "language": "python",
   "name": "python3"
  },
  "language_info": {
   "codemirror_mode": {
    "name": "ipython",
    "version": 3
   },
   "file_extension": ".py",
   "mimetype": "text/x-python",
   "name": "python",
   "nbconvert_exporter": "python",
   "pygments_lexer": "ipython3",
   "version": "3.5.2"
  }
 },
 "nbformat": 4,
 "nbformat_minor": 2
}
