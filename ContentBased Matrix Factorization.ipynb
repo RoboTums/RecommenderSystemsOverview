{
 "cells": [
  {
   "cell_type": "markdown",
   "metadata": {},
   "source": [
    "## Creating an Explicit Latent Matrix Factorization Recommender System for Books10k Dataset"
   ]
  },
  {
   "cell_type": "code",
   "execution_count": 42,
   "metadata": {},
   "outputs": [],
   "source": [
    "import numpy as np\n",
    "import pandas as pd\n",
    "from scipy.sparse import coo_matrix\n",
    "import time"
   ]
  },
  {
   "cell_type": "markdown",
   "metadata": {},
   "source": [
    "First we load the data set:\n",
    "\n",
    "\n",
    "\n",
    "\n"
   ]
  },
  {
   "cell_type": "code",
   "execution_count": 43,
   "metadata": {},
   "outputs": [],
   "source": [
    "#insert your path to ratings.csv here:\n",
    "path = '/home/robot-tumas/Desktop/projects/python/recSysTutorial/datasets/goodBooks10k/'\n",
    "ratingsDataMatrix = pd.read_csv(path+'ratings.csv',engine='python')"
   ]
  },
  {
   "cell_type": "code",
   "execution_count": 44,
   "metadata": {},
   "outputs": [
    {
     "name": "stdout",
     "output_type": "stream",
     "text": [
      "we have  980112 observations and  3 columns\n",
      "the columns are: Index(['book_id', 'user_id', 'rating'], dtype='object')\n",
      "the number of unique users we have is: 53424\n",
      "the number of unique books we have is: 10000\n",
      "The median user rated 8 books. We'll look at users that have rated at least 10 books. 8.0\n"
     ]
    }
   ],
   "source": [
    "#we should  drop duplicates to clean the data:\n",
    "ratingsDataMatrix = ratingsDataMatrix.drop_duplicates()\n",
    "#lets look at some of the ratings:\n",
    "print('we have ',ratingsDataMatrix.shape[0], 'observations and ', ratingsDataMatrix.shape[1], 'columns')\n",
    "print('the columns are:', ratingsDataMatrix.columns)\n",
    "print('the number of unique users we have is:', len(ratingsDataMatrix.user_id.unique()))\n",
    "print('the number of unique books we have is:', len(ratingsDataMatrix.book_id.unique()))\n",
    "print(\"The median user rated 8 books. We'll look at users that have rated at least 10 books.\",ratingsDataMatrix.user_id.value_counts().median())\n"
   ]
  },
  {
   "cell_type": "code",
   "execution_count": 45,
   "metadata": {},
   "outputs": [],
   "source": [
    "ratingsDataMatrix = ratingsDataMatrix.pivot_table(index = 'user_id', columns = 'book_id', values = 'rating')"
   ]
  },
  {
   "cell_type": "markdown",
   "metadata": {},
   "source": [
    "We clean the data, remove all users who have rated less than 10 books, and then fill all the nans with zeros to prepare for matrix factorization. "
   ]
  },
  {
   "cell_type": "code",
   "execution_count": 46,
   "metadata": {},
   "outputs": [
    {
     "name": "stdout",
     "output_type": "stream",
     "text": [
      "users kept:14612\n",
      " items kept: 9998 \n",
      "by limiting users, we keep 27.351%,of the total user base.\n",
      "by limiting items, we keep 99.980%,of the total user base.\n"
     ]
    }
   ],
   "source": [
    "userReviewCount = ratingsDataMatrix.count(axis=1)\n",
    "itemReviewCount = ratingsDataMatrix.count(axis=0)\n",
    "\n",
    "threshold=20\n",
    "usersToKeep = userReviewCount[userReviewCount >= threshold]\n",
    "itemsToKeep = itemReviewCount[itemReviewCount >= threshold]\n",
    "print('users kept:%d'%usersToKeep.shape[0] + \"\\n items kept: %d \"%itemsToKeep.shape[0])\n",
    "print(\"by limiting users, we keep {0:.3%},of the total user base.\".format(usersToKeep.shape[0]/userReviewCount.shape[0]))\n",
    "print(\"by limiting items, we keep {0:.3%},of the total user base.\".format(itemsToKeep.shape[0]/itemReviewCount.shape[0]))\n",
    "\n",
    "#print(f'Only {\"{:.2%}\".format(usersToKeep.shape[0]/userReviewCount.shape[0])\n",
    "\n",
    "ratingsDataMatrix=ratingsDataMatrix.loc[usersToKeep.index, :]\n",
    "ratingsDataMatrix=ratingsDataMatrix.loc[:,itemsToKeep.index]\n",
    "\n",
    "ratingsDataMatrix.fillna(0,inplace=True)"
   ]
  },
  {
   "cell_type": "code",
   "execution_count": null,
   "metadata": {},
   "outputs": [],
   "source": []
  },
  {
   "cell_type": "code",
   "execution_count": 47,
   "metadata": {},
   "outputs": [],
   "source": [
    "#from scipy we can get a set up a sparse coordinate matrix with the ratings and users. \n",
    "ratingsMatrix = coo_matrix((ratingsDataMatrix.values)) # rows are books, columns are users\n"
   ]
  },
  {
   "cell_type": "code",
   "execution_count": 48,
   "metadata": {},
   "outputs": [
    {
     "data": {
      "text/plain": [
       "<14612x9998 sparse matrix of type '<class 'numpy.float64'>'\n",
       "\twith 720208 stored elements in COOrdinate format>"
      ]
     },
     "execution_count": 48,
     "metadata": {},
     "output_type": "execute_result"
    }
   ],
   "source": [
    "ratingsMatrix"
   ]
  },
  {
   "cell_type": "markdown",
   "metadata": {},
   "source": [
    "## we are now ready for FunkSVD. This is where we approximate Singular Value decomposition using stochastic gradient descent. Lets first define our error function then use it to derive the algorithm.\n"
   ]
  },
  {
   "cell_type": "code",
   "execution_count": 74,
   "metadata": {},
   "outputs": [],
   "source": [
    "def evaluate(Rating,P,Q,lambd=0.05):#error to minimize\n",
    "    values = Rating.data\n",
    "    row = Rating.row\n",
    "    col = Rating.col\n",
    "    error=0\n",
    "    print(len(values))\n",
    "    for ui in range(len(values)): #iterate through rating for user u, item i\n",
    "        r_ui = values[ui]\n",
    "        pu = row[ui]\n",
    "        qi = col[ui]\n",
    "        \n",
    "        #now we add regularization:\n",
    "        mean = np.mean(values) #global average of books\n",
    "        uBias = np.mean(P[pu,:]) #average rating of user\n",
    "        iBias = np.mean(Q[:,qi]) #average rating of book\n",
    "        biasUI = np.add(iBias, np.add(mean,uBias)) #total bias for user u, item i\n",
    "        \n",
    "        if r_ui > 0: #i.e. if rating makes sense(sometimes latent factorization gets weird)\n",
    "            est_r_ui = np.matmul(P[pu,:],Q[:,qi] ) + biasUI\n",
    "            terms = [uBias, iBias, np.linalg.norm(P[pu,:],2),np.linalg.norm(Q[:,qi],2)]\n",
    "            error = error + (r_ui -  est_r_ui)**2 + lambd * np.sum(np.power(terms,2))\n",
    "    return error"
   ]
  },
  {
   "cell_type": "code",
   "execution_count": 77,
   "metadata": {},
   "outputs": [],
   "source": [
    "def SGDoptimizer(Rating,k=10,lambd=0.05,epochs=10, alpha=0.005, verbose=True):\n",
    "    M,N = Rating.shape\n",
    "    \n",
    "    nRatings = len(Rating.data)\n",
    "    row = Rating.row\n",
    "    col = Rating.col   \n",
    "    P = np.random.normal(0,.1,(M,k))\n",
    "    Q = np.random.normal(0,.1,(k,N))\n",
    "    print(nRatings)\n",
    "    rmse = np.sqrt(np.divide(SSError(Rating,P,Q,lambd),nRatings))\n",
    "    print('initial rsme:',rsme)\n",
    "    for epoch in range(epochs):\n",
    "        for ui in range(nRatings):\n",
    "            r_ui = values[ui]\n",
    "            pu = row[ui]\n",
    "            qi = col[ui] # item i, used in context to index matrix Q\n",
    "            mean = np.mean(values) #global average of books\n",
    "            uBias = np.mean(P[pu,:]) #average rating of user\n",
    "            iBias = np.mean(Q[:,qi]) #average rating of book\n",
    "            biasUI = np.add(iBias, np.add(mean,uBias)) #total bias for user u, item i\n",
    "            \n",
    "            #get residuals\n",
    "            pred_r_ui = np.dot(P[pu,:],Q[:,qi]) + biasUI\n",
    "            resdiual = r_ui - pred_r_ui\n",
    "\n",
    "            #update P,Q\n",
    "            P[pu,:] = P[pu,:] + alpha * np.subtract(residual * Q[:,qi],lambd * P[pu,:] ) \n",
    "            Q[:,qi] = Q[:,qi] +alpha * np.substract(residual * P[pu,:],lambd * Q[:,qi])\n",
    "        \n",
    "        rsme = np.sqrt(np.divide(SSError(Rating,P,Q,lambd),nRatings))\n",
    "        if verbose:\n",
    "            print(\"epoch :\"+(epoch+1)+\" ----Current RSME: %.2f\"%rsme)\n",
    "        \n",
    "    if verbose:\n",
    "        print(\"epoch :\"+(epoch+1)+\" ----Current RSME: %.2f\"%rsme)\n",
    "    \n",
    "    return P,Q,rsme\n",
    "            \n",
    "    "
   ]
  },
  {
   "cell_type": "code",
   "execution_count": 78,
   "metadata": {},
   "outputs": [
    {
     "name": "stdout",
     "output_type": "stream",
     "text": [
      "720208\n",
      "720208\n"
     ]
    },
    {
     "ename": "UnboundLocalError",
     "evalue": "local variable 'rsme' referenced before assignment",
     "output_type": "error",
     "traceback": [
      "\u001b[0;31m---------------------------------------------------------------------------\u001b[0m",
      "\u001b[0;31mUnboundLocalError\u001b[0m                         Traceback (most recent call last)",
      "\u001b[0;32m<ipython-input-78-7e157d7db140>\u001b[0m in \u001b[0;36m<module>\u001b[0;34m\u001b[0m\n\u001b[1;32m      1\u001b[0m \u001b[0mstarttime\u001b[0m \u001b[0;34m=\u001b[0m \u001b[0mtime\u001b[0m\u001b[0;34m.\u001b[0m\u001b[0mtime\u001b[0m\u001b[0;34m(\u001b[0m\u001b[0;34m)\u001b[0m\u001b[0;34m\u001b[0m\u001b[0m\n\u001b[0;32m----> 2\u001b[0;31m \u001b[0mP\u001b[0m\u001b[0;34m,\u001b[0m\u001b[0mQ\u001b[0m\u001b[0;34m,\u001b[0m\u001b[0mrsme\u001b[0m \u001b[0;34m=\u001b[0m \u001b[0mSGDoptimizer\u001b[0m\u001b[0;34m(\u001b[0m\u001b[0mratingsMatrix\u001b[0m\u001b[0;34m)\u001b[0m\u001b[0;34m\u001b[0m\u001b[0m\n\u001b[0m\u001b[1;32m      3\u001b[0m \u001b[0mduration\u001b[0m \u001b[0;34m=\u001b[0m \u001b[0mtime\u001b[0m\u001b[0;34m.\u001b[0m\u001b[0mtime\u001b[0m\u001b[0;34m(\u001b[0m\u001b[0;34m)\u001b[0m \u001b[0;34m-\u001b[0m \u001b[0mstarttime\u001b[0m\u001b[0;34m\u001b[0m\u001b[0m\n\u001b[1;32m      4\u001b[0m \u001b[0mprint\u001b[0m\u001b[0;34m(\u001b[0m\u001b[0;34m\"Process time: duration: %.2f\"\u001b[0m\u001b[0;34m%\u001b[0m\u001b[0mduration\u001b[0m\u001b[0;34m)\u001b[0m\u001b[0;34m\u001b[0m\u001b[0m\n",
      "\u001b[0;32m<ipython-input-77-b36c638ca81a>\u001b[0m in \u001b[0;36mSGDoptimizer\u001b[0;34m(Rating, k, lambd, epochs, alpha, verbose)\u001b[0m\n\u001b[1;32m      9\u001b[0m     \u001b[0mprint\u001b[0m\u001b[0;34m(\u001b[0m\u001b[0mnRatings\u001b[0m\u001b[0;34m)\u001b[0m\u001b[0;34m\u001b[0m\u001b[0m\n\u001b[1;32m     10\u001b[0m     \u001b[0mrmse\u001b[0m \u001b[0;34m=\u001b[0m \u001b[0mnp\u001b[0m\u001b[0;34m.\u001b[0m\u001b[0msqrt\u001b[0m\u001b[0;34m(\u001b[0m\u001b[0mnp\u001b[0m\u001b[0;34m.\u001b[0m\u001b[0mdivide\u001b[0m\u001b[0;34m(\u001b[0m\u001b[0mSSError\u001b[0m\u001b[0;34m(\u001b[0m\u001b[0mRating\u001b[0m\u001b[0;34m,\u001b[0m\u001b[0mP\u001b[0m\u001b[0;34m,\u001b[0m\u001b[0mQ\u001b[0m\u001b[0;34m,\u001b[0m\u001b[0mlambd\u001b[0m\u001b[0;34m)\u001b[0m\u001b[0;34m,\u001b[0m\u001b[0mnRatings\u001b[0m\u001b[0;34m)\u001b[0m\u001b[0;34m)\u001b[0m\u001b[0;34m\u001b[0m\u001b[0m\n\u001b[0;32m---> 11\u001b[0;31m     \u001b[0mprint\u001b[0m\u001b[0;34m(\u001b[0m\u001b[0;34m'initial rsme:'\u001b[0m\u001b[0;34m,\u001b[0m\u001b[0mrsme\u001b[0m\u001b[0;34m)\u001b[0m\u001b[0;34m\u001b[0m\u001b[0m\n\u001b[0m\u001b[1;32m     12\u001b[0m     \u001b[0;32mfor\u001b[0m \u001b[0mepoch\u001b[0m \u001b[0;32min\u001b[0m \u001b[0mrange\u001b[0m\u001b[0;34m(\u001b[0m\u001b[0mepochs\u001b[0m\u001b[0;34m)\u001b[0m\u001b[0;34m:\u001b[0m\u001b[0;34m\u001b[0m\u001b[0m\n\u001b[1;32m     13\u001b[0m         \u001b[0;32mfor\u001b[0m \u001b[0mui\u001b[0m \u001b[0;32min\u001b[0m \u001b[0mrange\u001b[0m\u001b[0;34m(\u001b[0m\u001b[0mnRatings\u001b[0m\u001b[0;34m)\u001b[0m\u001b[0;34m:\u001b[0m\u001b[0;34m\u001b[0m\u001b[0m\n",
      "\u001b[0;31mUnboundLocalError\u001b[0m: local variable 'rsme' referenced before assignment"
     ]
    }
   ],
   "source": [
    "starttime = time.time()\n",
    "P,Q,rsme = SGDoptimizer(ratingsMatrix)\n",
    "duration = time.time() - starttime\n",
    "print(\"Process time: duration: %.2f\"%duration)"
   ]
  },
  {
   "cell_type": "raw",
   "metadata": {},
   "source": []
  },
  {
   "cell_type": "code",
   "execution_count": 60,
   "metadata": {},
   "outputs": [
    {
     "name": "stdout",
     "output_type": "stream",
     "text": [
      "720208\n"
     ]
    },
    {
     "ename": "IndexError",
     "evalue": "index 584 is out of bounds for axis 0 with size 5",
     "output_type": "error",
     "traceback": [
      "\u001b[0;31m---------------------------------------------------------------------------\u001b[0m",
      "\u001b[0;31mIndexError\u001b[0m                                Traceback (most recent call last)",
      "\u001b[0;32m<ipython-input-60-ece25a20723e>\u001b[0m in \u001b[0;36m<module>\u001b[0;34m\u001b[0m\n\u001b[1;32m      4\u001b[0m \u001b[0mP\u001b[0m \u001b[0;34m=\u001b[0m \u001b[0mnp\u001b[0m\u001b[0;34m.\u001b[0m\u001b[0mrandom\u001b[0m\u001b[0;34m.\u001b[0m\u001b[0mrand\u001b[0m\u001b[0;34m(\u001b[0m\u001b[0mM\u001b[0m\u001b[0;34m,\u001b[0m\u001b[0;36m5\u001b[0m\u001b[0;34m)\u001b[0m\u001b[0;34m\u001b[0m\u001b[0m\n\u001b[1;32m      5\u001b[0m \u001b[0mQ\u001b[0m \u001b[0;34m=\u001b[0m \u001b[0mnp\u001b[0m\u001b[0;34m.\u001b[0m\u001b[0mrandom\u001b[0m\u001b[0;34m.\u001b[0m\u001b[0mrand\u001b[0m\u001b[0;34m(\u001b[0m\u001b[0;36m5\u001b[0m\u001b[0;34m,\u001b[0m\u001b[0mN\u001b[0m\u001b[0;34m)\u001b[0m\u001b[0;34m\u001b[0m\u001b[0m\n\u001b[0;32m----> 6\u001b[0;31m \u001b[0mSSError\u001b[0m\u001b[0;34m(\u001b[0m\u001b[0mratingsMatrix\u001b[0m\u001b[0;34m,\u001b[0m\u001b[0mP\u001b[0m\u001b[0;34m,\u001b[0m\u001b[0mQ\u001b[0m\u001b[0;34m)\u001b[0m\u001b[0;34m\u001b[0m\u001b[0m\n\u001b[0m\u001b[1;32m      7\u001b[0m \u001b[0;34m\u001b[0m\u001b[0m\n\u001b[1;32m      8\u001b[0m \u001b[0mduration\u001b[0m \u001b[0;34m=\u001b[0m \u001b[0mtime\u001b[0m\u001b[0;34m.\u001b[0m\u001b[0mtime\u001b[0m\u001b[0;34m(\u001b[0m\u001b[0;34m)\u001b[0m \u001b[0;34m-\u001b[0m \u001b[0mstarttime\u001b[0m\u001b[0;34m\u001b[0m\u001b[0m\n",
      "\u001b[0;32m<ipython-input-59-0d6704f63dd1>\u001b[0m in \u001b[0;36mSSError\u001b[0;34m(Rating, P, Q, lambd)\u001b[0m\n\u001b[1;32m     13\u001b[0m         \u001b[0mmean\u001b[0m \u001b[0;34m=\u001b[0m \u001b[0mnp\u001b[0m\u001b[0;34m.\u001b[0m\u001b[0mmean\u001b[0m\u001b[0;34m(\u001b[0m\u001b[0mvalues\u001b[0m\u001b[0;34m)\u001b[0m \u001b[0;31m#global average of books\u001b[0m\u001b[0;34m\u001b[0m\u001b[0m\n\u001b[1;32m     14\u001b[0m         \u001b[0muBias\u001b[0m \u001b[0;34m=\u001b[0m \u001b[0mnp\u001b[0m\u001b[0;34m.\u001b[0m\u001b[0mmean\u001b[0m\u001b[0;34m(\u001b[0m\u001b[0mP\u001b[0m\u001b[0;34m[\u001b[0m\u001b[0mpu\u001b[0m\u001b[0;34m]\u001b[0m\u001b[0;34m)\u001b[0m \u001b[0;31m#average rating of user\u001b[0m\u001b[0;34m\u001b[0m\u001b[0m\n\u001b[0;32m---> 15\u001b[0;31m         \u001b[0miBias\u001b[0m \u001b[0;34m=\u001b[0m \u001b[0mnp\u001b[0m\u001b[0;34m.\u001b[0m\u001b[0mmean\u001b[0m\u001b[0;34m(\u001b[0m\u001b[0mQ\u001b[0m\u001b[0;34m[\u001b[0m\u001b[0mqi\u001b[0m\u001b[0;34m]\u001b[0m\u001b[0;34m)\u001b[0m \u001b[0;31m#average rating of book\u001b[0m\u001b[0;34m\u001b[0m\u001b[0m\n\u001b[0m\u001b[1;32m     16\u001b[0m         \u001b[0mbiasUI\u001b[0m \u001b[0;34m=\u001b[0m \u001b[0mnp\u001b[0m\u001b[0;34m.\u001b[0m\u001b[0madd\u001b[0m\u001b[0;34m(\u001b[0m\u001b[0miBias\u001b[0m\u001b[0;34m,\u001b[0m \u001b[0mnp\u001b[0m\u001b[0;34m.\u001b[0m\u001b[0madd\u001b[0m\u001b[0;34m(\u001b[0m\u001b[0mmean\u001b[0m\u001b[0;34m,\u001b[0m\u001b[0muBias\u001b[0m\u001b[0;34m)\u001b[0m\u001b[0;34m)\u001b[0m \u001b[0;31m#total bias for user u, item i\u001b[0m\u001b[0;34m\u001b[0m\u001b[0m\n\u001b[1;32m     17\u001b[0m \u001b[0;34m\u001b[0m\u001b[0m\n",
      "\u001b[0;31mIndexError\u001b[0m: index 584 is out of bounds for axis 0 with size 5"
     ]
    }
   ],
   "source": [
    "starttime = time.time()\n",
    "\n",
    "M,N = ratingsMatrix.shape\n",
    "P = np.random.rand(M,5)\n",
    "Q = np.random.rand(5,N)\n",
    "SSError(ratingsMatrix,P,Q)\n",
    "\n",
    "duration = time.time() - starttime\n",
    "print(\"Process time: duration: %.2f\"%duration)"
   ]
  },
  {
   "cell_type": "code",
   "execution_count": 69,
   "metadata": {},
   "outputs": [
    {
     "data": {
      "text/plain": [
       "array([[0., 0., 0., ..., 0., 0., 0.]])"
      ]
     },
     "execution_count": 69,
     "metadata": {},
     "output_type": "execute_result"
    }
   ],
   "source": []
  },
  {
   "cell_type": "code",
   "execution_count": null,
   "metadata": {},
   "outputs": [],
   "source": []
  }
 ],
 "metadata": {
  "kernelspec": {
   "display_name": "Python 3",
   "language": "python",
   "name": "python3"
  },
  "language_info": {
   "codemirror_mode": {
    "name": "ipython",
    "version": 3
   },
   "file_extension": ".py",
   "mimetype": "text/x-python",
   "name": "python",
   "nbconvert_exporter": "python",
   "pygments_lexer": "ipython3",
   "version": "3.5.2"
  }
 },
 "nbformat": 4,
 "nbformat_minor": 2
}
